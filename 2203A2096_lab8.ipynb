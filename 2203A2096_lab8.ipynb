{
  "nbformat": 4,
  "nbformat_minor": 0,
  "metadata": {
    "colab": {
      "provenance": []
    },
    "kernelspec": {
      "name": "python3",
      "display_name": "Python 3"
    },
    "language_info": {
      "name": "python"
    }
  },
  "cells": [
    {
      "cell_type": "code",
      "execution_count": 37,
      "metadata": {
        "colab": {
          "base_uri": "https://localhost:8080/"
        },
        "id": "1_jcyG866YOc",
        "outputId": "ccacc1a1-18ab-43e3-e4da-a05a06a01fbe"
      },
      "outputs": [
        {
          "output_type": "stream",
          "name": "stdout",
          "text": [
            "     Alcohol  Malic_Acid   Ash  Ash_Alcanity  Magnesium  Total_Phenols  \\\n",
            "0      14.23        1.71  2.43          15.6        127           2.80   \n",
            "1      13.20        1.78  2.14          11.2        100           2.65   \n",
            "2      13.16        2.36  2.67          18.6        101           2.80   \n",
            "3      14.37        1.95  2.50          16.8        113           3.85   \n",
            "4      13.24        2.59  2.87          21.0        118           2.80   \n",
            "..       ...         ...   ...           ...        ...            ...   \n",
            "173    13.71        5.65  2.45          20.5         95           1.68   \n",
            "174    13.40        3.91  2.48          23.0        102           1.80   \n",
            "175    13.27        4.28  2.26          20.0        120           1.59   \n",
            "176    13.17        2.59  2.37          20.0        120           1.65   \n",
            "177    14.13        4.10  2.74          24.5         96           2.05   \n",
            "\n",
            "     Flavanoids  Nonflavanoid_Phenols  Proanthocyanins  Color_Intensity   Hue  \\\n",
            "0          3.06                  0.28             2.29             5.64  1.04   \n",
            "1          2.76                  0.26             1.28             4.38  1.05   \n",
            "2          3.24                  0.30             2.81             5.68  1.03   \n",
            "3          3.49                  0.24             2.18             7.80  0.86   \n",
            "4          2.69                  0.39             1.82             4.32  1.04   \n",
            "..          ...                   ...              ...              ...   ...   \n",
            "173        0.61                  0.52             1.06             7.70  0.64   \n",
            "174        0.75                  0.43             1.41             7.30  0.70   \n",
            "175        0.69                  0.43             1.35            10.20  0.59   \n",
            "176        0.68                  0.53             1.46             9.30  0.60   \n",
            "177        0.76                  0.56             1.35             9.20  0.61   \n",
            "\n",
            "     OD280  Proline  Customer_Segment  \n",
            "0     3.92     1065                 1  \n",
            "1     3.40     1050                 1  \n",
            "2     3.17     1185                 1  \n",
            "3     3.45     1480                 1  \n",
            "4     2.93      735                 1  \n",
            "..     ...      ...               ...  \n",
            "173   1.74      740                 3  \n",
            "174   1.56      750                 3  \n",
            "175   1.56      835                 3  \n",
            "176   1.62      840                 3  \n",
            "177   1.60      560                 3  \n",
            "\n",
            "[178 rows x 14 columns]\n"
          ]
        }
      ],
      "source": [
        "import pandas as pd\n",
        "a= pd.read_csv('/content/Wine.csv')\n",
        "print(a)"
      ]
    },
    {
      "cell_type": "code",
      "source": [
        "print(a.isnull().sum())"
      ],
      "metadata": {
        "colab": {
          "base_uri": "https://localhost:8080/"
        },
        "id": "bhMOpukl7cBz",
        "outputId": "34ce35e9-4755-487e-9bea-0357fbd24086"
      },
      "execution_count": 38,
      "outputs": [
        {
          "output_type": "stream",
          "name": "stdout",
          "text": [
            "Alcohol                 0\n",
            "Malic_Acid              0\n",
            "Ash                     0\n",
            "Ash_Alcanity            0\n",
            "Magnesium               0\n",
            "Total_Phenols           0\n",
            "Flavanoids              0\n",
            "Nonflavanoid_Phenols    0\n",
            "Proanthocyanins         0\n",
            "Color_Intensity         0\n",
            "Hue                     0\n",
            "OD280                   0\n",
            "Proline                 0\n",
            "Customer_Segment        0\n",
            "dtype: int64\n"
          ]
        }
      ]
    },
    {
      "cell_type": "code",
      "source": [
        "y=a['Customer_Segment']\n",
        "print(y)"
      ],
      "metadata": {
        "colab": {
          "base_uri": "https://localhost:8080/"
        },
        "id": "jLQZoeP_7JPS",
        "outputId": "9545351b-a128-40a5-8f4a-b1ff08aa9a41"
      },
      "execution_count": 39,
      "outputs": [
        {
          "output_type": "stream",
          "name": "stdout",
          "text": [
            "0      1\n",
            "1      1\n",
            "2      1\n",
            "3      1\n",
            "4      1\n",
            "      ..\n",
            "173    3\n",
            "174    3\n",
            "175    3\n",
            "176    3\n",
            "177    3\n",
            "Name: Customer_Segment, Length: 178, dtype: int64\n"
          ]
        }
      ]
    },
    {
      "cell_type": "code",
      "source": [
        "x=a.drop('Customer_Segment',axis=1)\n",
        "print(x)"
      ],
      "metadata": {
        "colab": {
          "base_uri": "https://localhost:8080/"
        },
        "id": "tVRStskD7bCO",
        "outputId": "c29c68dd-0ab0-4675-c206-5db827fb092c"
      },
      "execution_count": 40,
      "outputs": [
        {
          "output_type": "stream",
          "name": "stdout",
          "text": [
            "     Alcohol  Malic_Acid   Ash  Ash_Alcanity  Magnesium  Total_Phenols  \\\n",
            "0      14.23        1.71  2.43          15.6        127           2.80   \n",
            "1      13.20        1.78  2.14          11.2        100           2.65   \n",
            "2      13.16        2.36  2.67          18.6        101           2.80   \n",
            "3      14.37        1.95  2.50          16.8        113           3.85   \n",
            "4      13.24        2.59  2.87          21.0        118           2.80   \n",
            "..       ...         ...   ...           ...        ...            ...   \n",
            "173    13.71        5.65  2.45          20.5         95           1.68   \n",
            "174    13.40        3.91  2.48          23.0        102           1.80   \n",
            "175    13.27        4.28  2.26          20.0        120           1.59   \n",
            "176    13.17        2.59  2.37          20.0        120           1.65   \n",
            "177    14.13        4.10  2.74          24.5         96           2.05   \n",
            "\n",
            "     Flavanoids  Nonflavanoid_Phenols  Proanthocyanins  Color_Intensity   Hue  \\\n",
            "0          3.06                  0.28             2.29             5.64  1.04   \n",
            "1          2.76                  0.26             1.28             4.38  1.05   \n",
            "2          3.24                  0.30             2.81             5.68  1.03   \n",
            "3          3.49                  0.24             2.18             7.80  0.86   \n",
            "4          2.69                  0.39             1.82             4.32  1.04   \n",
            "..          ...                   ...              ...              ...   ...   \n",
            "173        0.61                  0.52             1.06             7.70  0.64   \n",
            "174        0.75                  0.43             1.41             7.30  0.70   \n",
            "175        0.69                  0.43             1.35            10.20  0.59   \n",
            "176        0.68                  0.53             1.46             9.30  0.60   \n",
            "177        0.76                  0.56             1.35             9.20  0.61   \n",
            "\n",
            "     OD280  Proline  \n",
            "0     3.92     1065  \n",
            "1     3.40     1050  \n",
            "2     3.17     1185  \n",
            "3     3.45     1480  \n",
            "4     2.93      735  \n",
            "..     ...      ...  \n",
            "173   1.74      740  \n",
            "174   1.56      750  \n",
            "175   1.56      835  \n",
            "176   1.62      840  \n",
            "177   1.60      560  \n",
            "\n",
            "[178 rows x 13 columns]\n"
          ]
        }
      ]
    },
    {
      "cell_type": "code",
      "source": [
        "import numpy as np\n",
        "from sklearn import datasets\n",
        "from sklearn.model_selection import train_test_split\n",
        "X_train, X_test, y_train, y_test = train_test_split(x, y, test_size=0.3, random_state=0)"
      ],
      "metadata": {
        "id": "Xb-gjttFDUc_"
      },
      "execution_count": 41,
      "outputs": []
    },
    {
      "cell_type": "code",
      "source": [
        "from sklearn.svm import SVC\n",
        "from sklearn.metrics import accuracy_score\n",
        "from sklearn.preprocessing import StandardScaler\n",
        "\n",
        "svm_original = SVC()\n",
        "svm_original.fit(X_train, y_train)\n",
        "\n",
        "scaler = StandardScaler()\n",
        "X_train_scaled = scaler.fit_transform(X_train)\n",
        "X_test_scaled = scaler.transform(X_test)\n",
        "\n",
        "y_pred_original = svm_original.predict(X_test)\n",
        "accuracy_original = accuracy_score(y_test, y_pred_original)\n",
        "print(f\"Accuracy before PCA: {accuracy_original:.2f}\")"
      ],
      "metadata": {
        "colab": {
          "base_uri": "https://localhost:8080/"
        },
        "id": "DWPqLDCyDXny",
        "outputId": "15db5dd4-ff9b-42f7-c07c-c2a7a3e0e34f"
      },
      "execution_count": 42,
      "outputs": [
        {
          "output_type": "stream",
          "name": "stdout",
          "text": [
            "Accuracy before PCA: 0.78\n"
          ]
        }
      ]
    },
    {
      "cell_type": "code",
      "source": [
        "from sklearn.decomposition import PCA\n",
        "scaler = StandardScaler()\n",
        "X_train_scaled = scaler.fit_transform(X_train)\n",
        "X_test_scaled = scaler.transform(X_test)\n",
        "\n",
        "pca = PCA(n_components=2)\n",
        "X_train_pca = pca.fit_transform(X_train_scaled)\n",
        "X_test_pca = pca.transform(X_test_scaled)\n",
        "\n",
        "svm_pca = SVC()\n",
        "svm_pca.fit(X_train_pca, y_train)\n",
        "\n",
        "y_pred_pca = svm_pca.predict(X_test_pca)\n",
        "accuracy_pca = accuracy_score(y_test, y_pred_pca)\n",
        "print(f\"Accuracy after PCA: {accuracy_pca:.2f}\")"
      ],
      "metadata": {
        "colab": {
          "base_uri": "https://localhost:8080/"
        },
        "id": "eEf63PKMDnvP",
        "outputId": "7f5d97e4-2416-4815-c626-c65d1da8fb3c"
      },
      "execution_count": 43,
      "outputs": [
        {
          "output_type": "stream",
          "name": "stdout",
          "text": [
            "Accuracy after PCA: 0.98\n"
          ]
        }
      ]
    },
    {
      "cell_type": "code",
      "source": [
        "import pandas as pd\n",
        "import numpy as np\n",
        "b= pd.read_csv('/content/breast_cancer_survival (1).csv')\n",
        "print(b)\n"
      ],
      "metadata": {
        "colab": {
          "base_uri": "https://localhost:8080/"
        },
        "id": "Jb2czvgrG1zC",
        "outputId": "5fafd445-0499-43bf-b47b-34d308ac7441"
      },
      "execution_count": 44,
      "outputs": [
        {
          "output_type": "stream",
          "name": "stdout",
          "text": [
            "     Age  Gender  Protein1  Protein2  Protein3  Protein4 Tumour_Stage  \\\n",
            "0     42  FEMALE  0.952560   2.15000  0.007972 -0.048340           II   \n",
            "1     54  FEMALE  0.000000   1.38020 -0.498030 -0.507320           II   \n",
            "2     63  FEMALE -0.523030   1.76400 -0.370190  0.010815           II   \n",
            "3     78  FEMALE -0.876180   0.12943 -0.370380  0.132190            I   \n",
            "4     42  FEMALE  0.226110   1.74910 -0.543970 -0.390210           II   \n",
            "..   ...     ...       ...       ...       ...       ...          ...   \n",
            "329   59  FEMALE  0.024598   1.40050  0.024751  0.280320           II   \n",
            "330   41  FEMALE  0.100120  -0.46547  0.472370 -0.523870            I   \n",
            "331   54  FEMALE  0.753820   1.64250 -0.332850  0.857860           II   \n",
            "332   74  FEMALE  0.972510   1.42680 -0.366570 -0.107820           II   \n",
            "333   66  FEMALE  0.286380   1.39980  0.318830  0.836050           II   \n",
            "\n",
            "                          Histology ER status PR status HER2 status  \\\n",
            "0     Infiltrating Ductal Carcinoma  Positive  Positive    Negative   \n",
            "1     Infiltrating Ductal Carcinoma  Positive  Positive    Negative   \n",
            "2     Infiltrating Ductal Carcinoma  Positive  Positive    Negative   \n",
            "3     Infiltrating Ductal Carcinoma  Positive  Positive    Negative   \n",
            "4     Infiltrating Ductal Carcinoma  Positive  Positive    Positive   \n",
            "..                              ...       ...       ...         ...   \n",
            "329   Infiltrating Ductal Carcinoma  Positive  Positive    Positive   \n",
            "330   Infiltrating Ductal Carcinoma  Positive  Positive    Positive   \n",
            "331   Infiltrating Ductal Carcinoma  Positive  Positive    Negative   \n",
            "332  Infiltrating Lobular Carcinoma  Positive  Positive    Negative   \n",
            "333   Infiltrating Ductal Carcinoma  Positive  Positive    Negative   \n",
            "\n",
            "                    Surgery_type Date_of_Surgery Date_of_Last_Visit  \\\n",
            "0                          Other       20-May-18          26-Aug-18   \n",
            "1                          Other       26-Apr-18          25-Jan-19   \n",
            "2                     Lumpectomy       24-Aug-18          08-Apr-20   \n",
            "3                          Other       16-Nov-18          28-Jul-20   \n",
            "4                     Lumpectomy       12-Dec-18          05-Jan-19   \n",
            "..                           ...             ...                ...   \n",
            "329                   Lumpectomy       15-Jan-19          27-Mar-20   \n",
            "330  Modified Radical Mastectomy       25-Jul-18          23-Apr-19   \n",
            "331            Simple Mastectomy       26-Mar-19          11-Oct-19   \n",
            "332                   Lumpectomy       26-Nov-18          05-Dec-18   \n",
            "333  Modified Radical Mastectomy       04-Feb-19          10-Aug-19   \n",
            "\n",
            "    Patient_Status  \n",
            "0            Alive  \n",
            "1             Dead  \n",
            "2            Alive  \n",
            "3            Alive  \n",
            "4            Alive  \n",
            "..             ...  \n",
            "329          Alive  \n",
            "330          Alive  \n",
            "331           Dead  \n",
            "332          Alive  \n",
            "333           Dead  \n",
            "\n",
            "[334 rows x 15 columns]\n"
          ]
        }
      ]
    },
    {
      "cell_type": "code",
      "source": [
        "x1=b.drop('HER2 status',axis=1)\n",
        "x2=x1.drop('Patient_Status',axis=1)\n",
        "x3=x2.drop('Surgery_type',axis=1)\n",
        "x4=x3.drop('Date_of_Surgery',axis=1)\n",
        "x5=x4.drop('Date_of_Last_Visit',axis=1)\n",
        "x6=x5.drop('Histology',axis=1)\n",
        "x7=x6.drop('PR status',axis=1)\n",
        "x8=x7.drop('ER status',axis=1)\n",
        "print(x8)\n",
        "x=x8"
      ],
      "metadata": {
        "colab": {
          "base_uri": "https://localhost:8080/"
        },
        "id": "-DwaEXbNITkd",
        "outputId": "c4e10fc8-2a78-40d8-cc5e-abc92a99f5de"
      },
      "execution_count": 45,
      "outputs": [
        {
          "output_type": "stream",
          "name": "stdout",
          "text": [
            "     Age  Gender  Protein1  Protein2  Protein3  Protein4 Tumour_Stage\n",
            "0     42  FEMALE  0.952560   2.15000  0.007972 -0.048340           II\n",
            "1     54  FEMALE  0.000000   1.38020 -0.498030 -0.507320           II\n",
            "2     63  FEMALE -0.523030   1.76400 -0.370190  0.010815           II\n",
            "3     78  FEMALE -0.876180   0.12943 -0.370380  0.132190            I\n",
            "4     42  FEMALE  0.226110   1.74910 -0.543970 -0.390210           II\n",
            "..   ...     ...       ...       ...       ...       ...          ...\n",
            "329   59  FEMALE  0.024598   1.40050  0.024751  0.280320           II\n",
            "330   41  FEMALE  0.100120  -0.46547  0.472370 -0.523870            I\n",
            "331   54  FEMALE  0.753820   1.64250 -0.332850  0.857860           II\n",
            "332   74  FEMALE  0.972510   1.42680 -0.366570 -0.107820           II\n",
            "333   66  FEMALE  0.286380   1.39980  0.318830  0.836050           II\n",
            "\n",
            "[334 rows x 7 columns]\n"
          ]
        }
      ]
    },
    {
      "cell_type": "code",
      "source": [
        "x['Tumour_Stage'] = x['Tumour_Stage'].replace(\"I\",1)\n",
        "x.to_csv(\"updated_breast_cancer_survival.csv\", index=False)\n",
        "x['Tumour_Stage'] = x['Tumour_Stage'].replace(\"II\",2)\n",
        "x.to_csv(\"updated_breast_cancer_survival.csv\", index=False)\n",
        "x['Tumour_Stage'] = x['Tumour_Stage'].replace(\"III\",3)\n",
        "x.to_csv(\"updated_breast_cancer_survival.csv\", index=False)\n",
        "x['Gender'] = x['Gender'].map({'FEMALE': 1, 'MALE': 0})\n",
        "x.to_csv(\"updated_breast_cancer_survival.csv\", index=False)\n",
        "print(\"FEATURES:\\n\\n\")\n",
        "print(x)"
      ],
      "metadata": {
        "colab": {
          "base_uri": "https://localhost:8080/"
        },
        "id": "GSWs7wBMIlKb",
        "outputId": "a3b81f9b-913e-4d3c-9526-d3fe53216c38"
      },
      "execution_count": 46,
      "outputs": [
        {
          "output_type": "stream",
          "name": "stdout",
          "text": [
            "FEATURES:\n",
            "\n",
            "\n",
            "     Age  Gender  Protein1  Protein2  Protein3  Protein4  Tumour_Stage\n",
            "0     42       1  0.952560   2.15000  0.007972 -0.048340             2\n",
            "1     54       1  0.000000   1.38020 -0.498030 -0.507320             2\n",
            "2     63       1 -0.523030   1.76400 -0.370190  0.010815             2\n",
            "3     78       1 -0.876180   0.12943 -0.370380  0.132190             1\n",
            "4     42       1  0.226110   1.74910 -0.543970 -0.390210             2\n",
            "..   ...     ...       ...       ...       ...       ...           ...\n",
            "329   59       1  0.024598   1.40050  0.024751  0.280320             2\n",
            "330   41       1  0.100120  -0.46547  0.472370 -0.523870             1\n",
            "331   54       1  0.753820   1.64250 -0.332850  0.857860             2\n",
            "332   74       1  0.972510   1.42680 -0.366570 -0.107820             2\n",
            "333   66       1  0.286380   1.39980  0.318830  0.836050             2\n",
            "\n",
            "[334 rows x 7 columns]\n"
          ]
        }
      ]
    },
    {
      "cell_type": "code",
      "source": [
        "y0=b['Patient_Status']\n",
        "print(y0)\n",
        "y = y0.replace({\"Alive\": 1, \"Dead\": 0})\n",
        "y = y.fillna(0)\n"
      ],
      "metadata": {
        "colab": {
          "base_uri": "https://localhost:8080/"
        },
        "id": "ydkRD8DsIp8R",
        "outputId": "c7d41579-5490-400e-b4bf-579e2d976df7"
      },
      "execution_count": 47,
      "outputs": [
        {
          "output_type": "stream",
          "name": "stdout",
          "text": [
            "0      Alive\n",
            "1       Dead\n",
            "2      Alive\n",
            "3      Alive\n",
            "4      Alive\n",
            "       ...  \n",
            "329    Alive\n",
            "330    Alive\n",
            "331     Dead\n",
            "332    Alive\n",
            "333     Dead\n",
            "Name: Patient_Status, Length: 334, dtype: object\n"
          ]
        }
      ]
    },
    {
      "cell_type": "code",
      "source": [
        "y.to_csv(\"updated_breast_cancer_survival.csv\", index=False)\n",
        "print(\"TARGET VARIABLE:\")\n",
        "print(y)"
      ],
      "metadata": {
        "colab": {
          "base_uri": "https://localhost:8080/"
        },
        "id": "eMVITBwQH2qS",
        "outputId": "a9c6c99a-879e-4a34-fd25-8cbaa1de7841"
      },
      "execution_count": 48,
      "outputs": [
        {
          "output_type": "stream",
          "name": "stdout",
          "text": [
            "TARGET VARIABLE:\n",
            "0      1.0\n",
            "1      0.0\n",
            "2      1.0\n",
            "3      1.0\n",
            "4      1.0\n",
            "      ... \n",
            "329    1.0\n",
            "330    1.0\n",
            "331    0.0\n",
            "332    1.0\n",
            "333    0.0\n",
            "Name: Patient_Status, Length: 334, dtype: float64\n"
          ]
        }
      ]
    },
    {
      "cell_type": "code",
      "source": [
        "import pandas as pd\n",
        "from sklearn.model_selection import train_test_split\n",
        "from sklearn.linear_model import LogisticRegression\n",
        "from sklearn.metrics import accuracy_score\n",
        "X_train, X_test, y_train, y_test = train_test_split(x, y, test_size=0.2, random_state=42)\n",
        "model = LogisticRegression(solver='liblinear')\n",
        "model.fit(X_train, y_train)\n",
        "y_pred = model.predict(X_test)\n",
        "accuracy = accuracy_score(y_test, y_pred)\n",
        "print(f\"Accuracy: {accuracy * 100:.2f}%\")"
      ],
      "metadata": {
        "colab": {
          "base_uri": "https://localhost:8080/"
        },
        "id": "6UWOX62eP76L",
        "outputId": "ad8c6987-15fd-4c77-ea9a-7e8ed3dd172d"
      },
      "execution_count": 61,
      "outputs": [
        {
          "output_type": "stream",
          "name": "stdout",
          "text": [
            "Accuracy: 77.61%\n"
          ]
        }
      ]
    },
    {
      "cell_type": "code",
      "source": [
        "from sklearn.model_selection import train_test_split\n",
        "from sklearn.svm import SVC\n",
        "from sklearn.metrics import accuracy_score\n",
        "X_train, X_test, y_train, y_test = train_test_split(x, y, test_size=0.2, random_state=42)\n",
        "model.fit(X_train, y_train)\n",
        "svm_classifier = SVC(kernel='linear', random_state=2)\n",
        "svm_classifier.fit(X_train, y_train)\n",
        "y_pred = svm_classifier.predict(X_test)\n",
        "accuracy = accuracy_score(y_test, y_pred)\n",
        "print(f'Accuracy: {accuracy:.2f}')"
      ],
      "metadata": {
        "colab": {
          "base_uri": "https://localhost:8080/"
        },
        "id": "pwDz5NG3QLsB",
        "outputId": "ddfb4a0d-18fb-44e5-80e8-8bf9e3fd792b"
      },
      "execution_count": 62,
      "outputs": [
        {
          "output_type": "stream",
          "name": "stdout",
          "text": [
            "Accuracy: 0.78\n"
          ]
        }
      ]
    },
    {
      "cell_type": "code",
      "source": [
        "import numpy as np\n",
        "num_bootstrap_samples = 100\n",
        "uncertainties = []\n",
        "for i in range(50):\n",
        "    bootstrap_predictions = []\n",
        "    for _ in range(num_bootstrap_samples):\n",
        "        bootstrap_indices = np.random.choice(len(X_test), size=len(X_test), replace=True)\n",
        "        bootstrap_X_test = X_test[bootstrap_indices]\n",
        "        bootstrap_y_pred = svm_classifier.predict(bootstrap_X_test)\n",
        "        bootstrap_predictions.append(bootstrap_y_pred[i])\n",
        "    uncertainty_i = np.std(bootstrap_predictions)\n",
        "    uncertainties.append(uncertainty_i)\n",
        "print(\"Uncertainty for samples 1-50:\")\n",
        "print(uncertainties)"
      ],
      "metadata": {
        "colab": {
          "base_uri": "https://localhost:8080/",
          "height": 425
        },
        "id": "1fze_2q2QPMz",
        "outputId": "70bc7f25-1b49-4a70-81fc-9c1a0efc8c4f"
      },
      "execution_count": 64,
      "outputs": [
        {
          "output_type": "error",
          "ename": "KeyError",
          "evalue": "ignored",
          "traceback": [
            "\u001b[0;31m---------------------------------------------------------------------------\u001b[0m",
            "\u001b[0;31mKeyError\u001b[0m                                  Traceback (most recent call last)",
            "\u001b[0;32m<ipython-input-64-37c3bf0e5404>\u001b[0m in \u001b[0;36m<cell line: 4>\u001b[0;34m()\u001b[0m\n\u001b[1;32m      6\u001b[0m     \u001b[0;32mfor\u001b[0m \u001b[0m_\u001b[0m \u001b[0;32min\u001b[0m \u001b[0mrange\u001b[0m\u001b[0;34m(\u001b[0m\u001b[0mnum_bootstrap_samples\u001b[0m\u001b[0;34m)\u001b[0m\u001b[0;34m:\u001b[0m\u001b[0;34m\u001b[0m\u001b[0;34m\u001b[0m\u001b[0m\n\u001b[1;32m      7\u001b[0m         \u001b[0mbootstrap_indices\u001b[0m \u001b[0;34m=\u001b[0m \u001b[0mnp\u001b[0m\u001b[0;34m.\u001b[0m\u001b[0mrandom\u001b[0m\u001b[0;34m.\u001b[0m\u001b[0mchoice\u001b[0m\u001b[0;34m(\u001b[0m\u001b[0mlen\u001b[0m\u001b[0;34m(\u001b[0m\u001b[0mX_test\u001b[0m\u001b[0;34m)\u001b[0m\u001b[0;34m,\u001b[0m \u001b[0msize\u001b[0m\u001b[0;34m=\u001b[0m\u001b[0mlen\u001b[0m\u001b[0;34m(\u001b[0m\u001b[0mX_test\u001b[0m\u001b[0;34m)\u001b[0m\u001b[0;34m,\u001b[0m \u001b[0mreplace\u001b[0m\u001b[0;34m=\u001b[0m\u001b[0;32mTrue\u001b[0m\u001b[0;34m)\u001b[0m\u001b[0;34m\u001b[0m\u001b[0;34m\u001b[0m\u001b[0m\n\u001b[0;32m----> 8\u001b[0;31m         \u001b[0mbootstrap_X_test\u001b[0m \u001b[0;34m=\u001b[0m \u001b[0mX_test\u001b[0m\u001b[0;34m[\u001b[0m\u001b[0mbootstrap_indices\u001b[0m\u001b[0;34m]\u001b[0m\u001b[0;34m\u001b[0m\u001b[0;34m\u001b[0m\u001b[0m\n\u001b[0m\u001b[1;32m      9\u001b[0m         \u001b[0mbootstrap_y_pred\u001b[0m \u001b[0;34m=\u001b[0m \u001b[0msvm_classifier\u001b[0m\u001b[0;34m.\u001b[0m\u001b[0mpredict\u001b[0m\u001b[0;34m(\u001b[0m\u001b[0mbootstrap_X_test\u001b[0m\u001b[0;34m)\u001b[0m\u001b[0;34m\u001b[0m\u001b[0;34m\u001b[0m\u001b[0m\n\u001b[1;32m     10\u001b[0m         \u001b[0mbootstrap_predictions\u001b[0m\u001b[0;34m.\u001b[0m\u001b[0mappend\u001b[0m\u001b[0;34m(\u001b[0m\u001b[0mbootstrap_y_pred\u001b[0m\u001b[0;34m[\u001b[0m\u001b[0mi\u001b[0m\u001b[0;34m]\u001b[0m\u001b[0;34m)\u001b[0m\u001b[0;34m\u001b[0m\u001b[0;34m\u001b[0m\u001b[0m\n",
            "\u001b[0;32m/usr/local/lib/python3.10/dist-packages/pandas/core/frame.py\u001b[0m in \u001b[0;36m__getitem__\u001b[0;34m(self, key)\u001b[0m\n\u001b[1;32m   3811\u001b[0m             \u001b[0;32mif\u001b[0m \u001b[0mis_iterator\u001b[0m\u001b[0;34m(\u001b[0m\u001b[0mkey\u001b[0m\u001b[0;34m)\u001b[0m\u001b[0;34m:\u001b[0m\u001b[0;34m\u001b[0m\u001b[0;34m\u001b[0m\u001b[0m\n\u001b[1;32m   3812\u001b[0m                 \u001b[0mkey\u001b[0m \u001b[0;34m=\u001b[0m \u001b[0mlist\u001b[0m\u001b[0;34m(\u001b[0m\u001b[0mkey\u001b[0m\u001b[0;34m)\u001b[0m\u001b[0;34m\u001b[0m\u001b[0;34m\u001b[0m\u001b[0m\n\u001b[0;32m-> 3813\u001b[0;31m             \u001b[0mindexer\u001b[0m \u001b[0;34m=\u001b[0m \u001b[0mself\u001b[0m\u001b[0;34m.\u001b[0m\u001b[0mcolumns\u001b[0m\u001b[0;34m.\u001b[0m\u001b[0m_get_indexer_strict\u001b[0m\u001b[0;34m(\u001b[0m\u001b[0mkey\u001b[0m\u001b[0;34m,\u001b[0m \u001b[0;34m\"columns\"\u001b[0m\u001b[0;34m)\u001b[0m\u001b[0;34m[\u001b[0m\u001b[0;36m1\u001b[0m\u001b[0;34m]\u001b[0m\u001b[0;34m\u001b[0m\u001b[0;34m\u001b[0m\u001b[0m\n\u001b[0m\u001b[1;32m   3814\u001b[0m \u001b[0;34m\u001b[0m\u001b[0m\n\u001b[1;32m   3815\u001b[0m         \u001b[0;31m# take() does not accept boolean indexers\u001b[0m\u001b[0;34m\u001b[0m\u001b[0;34m\u001b[0m\u001b[0m\n",
            "\u001b[0;32m/usr/local/lib/python3.10/dist-packages/pandas/core/indexes/base.py\u001b[0m in \u001b[0;36m_get_indexer_strict\u001b[0;34m(self, key, axis_name)\u001b[0m\n\u001b[1;32m   6068\u001b[0m             \u001b[0mkeyarr\u001b[0m\u001b[0;34m,\u001b[0m \u001b[0mindexer\u001b[0m\u001b[0;34m,\u001b[0m \u001b[0mnew_indexer\u001b[0m \u001b[0;34m=\u001b[0m \u001b[0mself\u001b[0m\u001b[0;34m.\u001b[0m\u001b[0m_reindex_non_unique\u001b[0m\u001b[0;34m(\u001b[0m\u001b[0mkeyarr\u001b[0m\u001b[0;34m)\u001b[0m\u001b[0;34m\u001b[0m\u001b[0;34m\u001b[0m\u001b[0m\n\u001b[1;32m   6069\u001b[0m \u001b[0;34m\u001b[0m\u001b[0m\n\u001b[0;32m-> 6070\u001b[0;31m         \u001b[0mself\u001b[0m\u001b[0;34m.\u001b[0m\u001b[0m_raise_if_missing\u001b[0m\u001b[0;34m(\u001b[0m\u001b[0mkeyarr\u001b[0m\u001b[0;34m,\u001b[0m \u001b[0mindexer\u001b[0m\u001b[0;34m,\u001b[0m \u001b[0maxis_name\u001b[0m\u001b[0;34m)\u001b[0m\u001b[0;34m\u001b[0m\u001b[0;34m\u001b[0m\u001b[0m\n\u001b[0m\u001b[1;32m   6071\u001b[0m \u001b[0;34m\u001b[0m\u001b[0m\n\u001b[1;32m   6072\u001b[0m         \u001b[0mkeyarr\u001b[0m \u001b[0;34m=\u001b[0m \u001b[0mself\u001b[0m\u001b[0;34m.\u001b[0m\u001b[0mtake\u001b[0m\u001b[0;34m(\u001b[0m\u001b[0mindexer\u001b[0m\u001b[0;34m)\u001b[0m\u001b[0;34m\u001b[0m\u001b[0;34m\u001b[0m\u001b[0m\n",
            "\u001b[0;32m/usr/local/lib/python3.10/dist-packages/pandas/core/indexes/base.py\u001b[0m in \u001b[0;36m_raise_if_missing\u001b[0;34m(self, key, indexer, axis_name)\u001b[0m\n\u001b[1;32m   6128\u001b[0m                 \u001b[0;32mif\u001b[0m \u001b[0muse_interval_msg\u001b[0m\u001b[0;34m:\u001b[0m\u001b[0;34m\u001b[0m\u001b[0;34m\u001b[0m\u001b[0m\n\u001b[1;32m   6129\u001b[0m                     \u001b[0mkey\u001b[0m \u001b[0;34m=\u001b[0m \u001b[0mlist\u001b[0m\u001b[0;34m(\u001b[0m\u001b[0mkey\u001b[0m\u001b[0;34m)\u001b[0m\u001b[0;34m\u001b[0m\u001b[0;34m\u001b[0m\u001b[0m\n\u001b[0;32m-> 6130\u001b[0;31m                 \u001b[0;32mraise\u001b[0m \u001b[0mKeyError\u001b[0m\u001b[0;34m(\u001b[0m\u001b[0;34mf\"None of [{key}] are in the [{axis_name}]\"\u001b[0m\u001b[0;34m)\u001b[0m\u001b[0;34m\u001b[0m\u001b[0;34m\u001b[0m\u001b[0m\n\u001b[0m\u001b[1;32m   6131\u001b[0m \u001b[0;34m\u001b[0m\u001b[0m\n\u001b[1;32m   6132\u001b[0m             \u001b[0mnot_found\u001b[0m \u001b[0;34m=\u001b[0m \u001b[0mlist\u001b[0m\u001b[0;34m(\u001b[0m\u001b[0mensure_index\u001b[0m\u001b[0;34m(\u001b[0m\u001b[0mkey\u001b[0m\u001b[0;34m)\u001b[0m\u001b[0;34m[\u001b[0m\u001b[0mmissing_mask\u001b[0m\u001b[0;34m.\u001b[0m\u001b[0mnonzero\u001b[0m\u001b[0;34m(\u001b[0m\u001b[0;34m)\u001b[0m\u001b[0;34m[\u001b[0m\u001b[0;36m0\u001b[0m\u001b[0;34m]\u001b[0m\u001b[0;34m]\u001b[0m\u001b[0;34m.\u001b[0m\u001b[0munique\u001b[0m\u001b[0;34m(\u001b[0m\u001b[0;34m)\u001b[0m\u001b[0;34m)\u001b[0m\u001b[0;34m\u001b[0m\u001b[0;34m\u001b[0m\u001b[0m\n",
            "\u001b[0;31mKeyError\u001b[0m: \"None of [Int64Index([19, 65, 63, 32, 26, 54, 66, 56, 51,  5,  2, 16,  7, 12, 58, 15, 25,\\n             6, 12, 27,  6, 24, 63,  0, 27, 46, 15,  3, 34, 62, 10, 60, 30, 56,\\n             9, 45,  3, 33, 49, 63, 48, 21, 39, 26, 19, 11, 20, 55,  0, 63, 42,\\n            43, 54, 57, 14, 10, 51,  2, 58, 32, 12, 20, 34, 10, 60, 60,  9],\\n           dtype='int64')] are in the [columns]\""
          ]
        }
      ]
    }
  ]
}